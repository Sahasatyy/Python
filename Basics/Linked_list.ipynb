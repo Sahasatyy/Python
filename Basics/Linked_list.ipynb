{
 "cells": [
  {
   "cell_type": "code",
   "execution_count": 8,
   "metadata": {},
   "outputs": [
    {
     "name": "stdout",
     "output_type": "stream",
     "text": [
      "data os 22 and linked to None\n",
      "data os 33 and linked to None\n"
     ]
    }
   ],
   "source": [
    "class Node:\n",
    "    def __init__(self, data):\n",
    "        self.data = data\n",
    "        self.next = None\n",
    "    def display(self):\n",
    "        print(f\"data os {self.data} and linked to {self.next}\")\n",
    "\n",
    "\n",
    "n1 = Node(22)\n",
    "n1.display()\n",
    "n2 = Node(33)\n",
    "n2.display()"
   ]
  },
  {
   "cell_type": "code",
   "execution_count": 9,
   "metadata": {},
   "outputs": [
    {
     "name": "stdout",
     "output_type": "stream",
     "text": [
      "223355"
     ]
    }
   ],
   "source": [
    "class LinkedList:\n",
    "    def __init__(self):\n",
    "        self.head = None\n",
    "    def traversethelist(self):\n",
    "        if self.head is None:\n",
    "            print(\"Empty\")\n",
    "        else:\n",
    "            a = self.head\n",
    "            while a is not None:\n",
    "                print(a.data, end='')\n",
    "                a = a.next\n",
    "\n",
    "n1 = Node(22)\n",
    "n2 = Node(33)\n",
    "n3 = Node(55)\n",
    "l1 = LinkedList()\n",
    "l1.head = n1\n",
    "n1.next = n2\n",
    "n2.next = n3\n",
    "l1.traversethelist()"
   ]
  },
  {
   "cell_type": "code",
   "execution_count": null,
   "metadata": {},
   "outputs": [],
   "source": [
    "# Linear search\n",
    "# Binary search(Recursive search)\n",
    "# Greedy algorithm\n",
    "# Dijkstra's shortest path algorithm\n"
   ]
  }
 ],
 "metadata": {
  "kernelspec": {
   "display_name": "Python 3",
   "language": "python",
   "name": "python3"
  },
  "language_info": {
   "codemirror_mode": {
    "name": "ipython",
    "version": 3
   },
   "file_extension": ".py",
   "mimetype": "text/x-python",
   "name": "python",
   "nbconvert_exporter": "python",
   "pygments_lexer": "ipython3",
   "version": "3.12.4"
  }
 },
 "nbformat": 4,
 "nbformat_minor": 2
}
